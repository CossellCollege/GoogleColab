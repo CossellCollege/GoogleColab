{
  "nbformat": 4,
  "nbformat_minor": 0,
  "metadata": {
    "colab": {
      "name": "Feed_forward_propagation.ipynb",
      "provenance": [],
      "include_colab_link": true
    },
    "kernelspec": {
      "display_name": "Python 3",
      "language": "python",
      "name": "python3"
    },
    "language_info": {
      "codemirror_mode": {
        "name": "ipython",
        "version": 3
      },
      "file_extension": ".py",
      "mimetype": "text/x-python",
      "name": "python",
      "nbconvert_exporter": "python",
      "pygments_lexer": "ipython3",
      "version": "3.7.6"
    }
  },
  "cells": [
    {
      "cell_type": "markdown",
      "metadata": {
        "id": "view-in-github",
        "colab_type": "text"
      },
      "source": [
        "<a href=\"https://colab.research.google.com/github/CossellCollege/GoogleColab/blob/main/Chapter01/Feed_forward_propagation.ipynb\" target=\"_parent\"><img src=\"https://colab.research.google.com/assets/colab-badge.svg\" alt=\"Open In Colab\"/></a>"
      ]
    },
    {
      "cell_type": "markdown",
      "metadata": {
        "id": "Uk4Fezbb9SZc"
      },
      "source": [
        "### Forward Propagation"
      ]
    },
    {
      "cell_type": "code",
      "metadata": {
        "ExecuteTime": {
          "end_time": "2020-09-24T12:46:03.594770Z",
          "start_time": "2020-09-24T12:46:03.589643Z"
        },
        "id": "VytiqjTQgwf4",
        "colab": {
          "base_uri": "https://localhost:8080/"
        },
        "outputId": "14127200-d04a-4ede-a1b8-a8e7146bf494"
      },
      "source": [
        "import numpy as np\n",
        "def feed_forward(inputs, outputs, weights):\n",
        "    pre_hidden = np.dot(inputs,weights[0])+ weights[1]\n",
        "    hidden = 1/(1+np.exp(-pre_hidden))\n",
        "    pred_out = np.dot(hidden, weights[2]) + weights[3]\n",
        "    mean_squared_error = np.mean(np.square(pred_out - outputs))\n",
        "    return mean_squared_error\n",
        "inputs = np.array([1,1])\n",
        "outputs = np.array([0])\n",
        "\n",
        "input_features = inputs.shape[0]  # Number of input features (2)\n",
        "hidden_units = 3                  # Number of hidden units (can be any value)\n",
        "output_units = 1                  # Single output unit\n",
        "\n",
        "weights = [\n",
        "    np.random.rand(input_features, hidden_units),  # weights[0]: Shape (2, 3)\n",
        "    np.random.rand(hidden_units),                 # weights[1]: Shape (3,)\n",
        "    np.random.rand(hidden_units, output_units),   # weights[2]: Shape (3, 1)\n",
        "    np.random.rand(output_units)                  # weights[3]: Shape (1,)\n",
        "]\n",
        "feed_forward(inputs,outputs,weights)"
      ],
      "execution_count": 12,
      "outputs": [
        {
          "output_type": "execute_result",
          "data": {
            "text/plain": [
              "3.113435187038642"
            ]
          },
          "metadata": {},
          "execution_count": 12
        }
      ]
    },
    {
      "cell_type": "code",
      "source": [
        "import numpy as np\n",
        "inputs1 = np.array([1,1])\n",
        "print(inputs1)\n",
        "print(inputs1.shape)\n",
        "print(inputs1.shape[0])\n",
        "inputs2 = np.array([[1,1],[2,3]])\n",
        "print(inputs2)\n",
        "print(inputs2.shape)\n",
        "print(inputs2.shape[0])\n"
      ],
      "metadata": {
        "id": "BzXYq2sTx9YS",
        "outputId": "f6473e42-c3c8-407d-fae7-85181ab80710",
        "colab": {
          "base_uri": "https://localhost:8080/"
        }
      },
      "execution_count": 16,
      "outputs": [
        {
          "output_type": "stream",
          "name": "stdout",
          "text": [
            "[1 1]\n",
            "(2,)\n",
            "2\n",
            "[[1 1]\n",
            " [2 3]]\n",
            "(2, 2)\n",
            "2\n"
          ]
        }
      ]
    }
  ]
}